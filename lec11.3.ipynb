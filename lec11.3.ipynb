{
 "cells": [
  {
   "cell_type": "code",
   "execution_count": 1,
   "metadata": {},
   "outputs": [],
   "source": [
    "import numpy as np\n",
    "import matplotlib.pyplot as plt\n",
    "\n",
    "from sklearn.datasets import make_regression"
   ]
  },
  {
   "cell_type": "code",
   "execution_count": 2,
   "metadata": {},
   "outputs": [],
   "source": [
    "class CustomLinearRegression:\n",
    "    \n",
    "    def __init__(self, lr=.01):\n",
    "        self.__lr = lr\n",
    "        \n",
    "    def fit(self, X, y):\n",
    "        \n",
    "        self.__mean = X.mean(axis=0)\n",
    "        self.__std = X.std(axis=0)\n",
    "\n",
    "        X = (X - mean) / std\n",
    "        \n",
    "        self.__X = X\n",
    "        self.__y = y\n",
    "        \n",
    "        self.coef_ = np.random.randn(X.shape[1])\n",
    "        self.intercept_ = np.random.random()\n",
    "        \n",
    "        errors = []\n",
    "        \n",
    "        for k in range(20):\n",
    "            self.gradient_decend()\n",
    "            errors.append(self.error())\n",
    "            \n",
    "        return errors\n",
    "            \n",
    "    def gradient_decend(self):\n",
    "        delta_coef, delta_bias = self.gradient()\n",
    "        \n",
    "        self.coef_ += delta_coef\n",
    "        self.intercept_ += delta_bias\n",
    "        \n",
    "#         print(self.coef_, self.intercept_)\n",
    "        \n",
    "    def gradient(self):\n",
    "        yh = self.hypo(self.__X)\n",
    "        \n",
    "        diff = (yh - self.__y.reshape(-1, 1))\n",
    "        \n",
    "        del_err_coef = (np.dot(diff.T, self.__X)).flatten() / len(yh)\n",
    "        del_err_inter = (diff).mean()\n",
    "        \n",
    "        return -del_err_coef*self.__lr, -del_err_inter*self.__lr\n",
    "        \n",
    "    def hypo(self, X):\n",
    "        mx = np.sum(X * self.coef_, axis=1, keepdims=True)\n",
    "        return mx + self.intercept_\n",
    "    \n",
    "    \n",
    "    def predict(self, X):\n",
    "        X_mod = (X - self.__mean) / self.__std\n",
    "        y_h = self.hypo(X_mod)\n",
    "        return y_h.flatten()\n",
    "    \n",
    "    def error(self):\n",
    "        yh = self.hypo(self.__X)\n",
    "        diff = (yh - self.__y.reshape(-1, 1))\n",
    "        return (diff ** 2).mean()"
   ]
  },
  {
   "cell_type": "code",
   "execution_count": null,
   "metadata": {},
   "outputs": [],
   "source": []
  }
 ],
 "metadata": {
  "kernelspec": {
   "display_name": "Python 3",
   "language": "python",
   "name": "python3"
  },
  "language_info": {
   "codemirror_mode": {
    "name": "ipython",
    "version": 3
   },
   "file_extension": ".py",
   "mimetype": "text/x-python",
   "name": "python",
   "nbconvert_exporter": "python",
   "pygments_lexer": "ipython3",
   "version": "3.7.4"
  }
 },
 "nbformat": 4,
 "nbformat_minor": 4
}
