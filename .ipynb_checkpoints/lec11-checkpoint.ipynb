{
 "cells": [
  {
   "cell_type": "code",
   "execution_count": 1,
   "metadata": {},
   "outputs": [],
   "source": [
    "\n",
    "import numpy as np\n",
    "import matplotlib.pyplot as plt\n",
    "\n",
    "from sklearn.datasets import make_regression"
   ]
  },
  {
   "cell_type": "code",
   "execution_count": 2,
   "metadata": {},
   "outputs": [],
   "source": [
    "\n",
    "bias = 100\n",
    "\n",
    "X, y, coef = make_regression(n_samples=1000, n_features=5, bias=bias, coef=True, noise=10, random_state=42)"
   ]
  },
  {
   "cell_type": "code",
   "execution_count": 3,
   "metadata": {},
   "outputs": [
    {
     "data": {
      "text/plain": [
       "(array([28.62798621, 46.07121713, 16.82365791, 24.74629812, 18.99347437]), 100)"
      ]
     },
     "execution_count": 3,
     "metadata": {},
     "output_type": "execute_result"
    }
   ],
   "source": [
    "coef, bias"
   ]
  },
  {
   "cell_type": "code",
   "execution_count": 4,
   "metadata": {},
   "outputs": [],
   "source": [
    "from sklearn.linear_model import LinearRegression"
   ]
  },
  {
   "cell_type": "code",
   "execution_count": 5,
   "metadata": {},
   "outputs": [],
   "source": [
    "model = LinearRegression()"
   ]
  },
  {
   "cell_type": "code",
   "execution_count": 6,
   "metadata": {},
   "outputs": [
    {
     "data": {
      "text/plain": [
       "LinearRegression(copy_X=True, fit_intercept=True, n_jobs=None, normalize=False)"
      ]
     },
     "execution_count": 6,
     "metadata": {},
     "output_type": "execute_result"
    }
   ],
   "source": [
    "model.fit(X, y)"
   ]
  },
  {
   "cell_type": "code",
   "execution_count": 7,
   "metadata": {},
   "outputs": [
    {
     "data": {
      "text/plain": [
       "(array([28.05749028, 45.94154566, 16.61187941, 24.53193249, 19.36893323]),\n",
       " 99.3828533985921)"
      ]
     },
     "execution_count": 7,
     "metadata": {},
     "output_type": "execute_result"
    }
   ],
   "source": [
    "\n",
    "model.coef_, model.intercept_"
   ]
  },
  {
   "cell_type": "code",
   "execution_count": 8,
   "metadata": {},
   "outputs": [],
   "source": [
    "class CustomLinearRegression:\n",
    "    \n",
    "    def __init__(self, lr=.01):\n",
    "        self.__lr = lr\n",
    "        \n",
    "    def fit(self, X, y):\n",
    "        \n",
    "        \n",
    "        self.__mean = X.mean(axis=0)\n",
    "        self.__std = X.std(axis=0)\n",
    "        X = (X - self.__mean) /self.__std \n",
    "        self.__X = X\n",
    "        self.__y = y\n",
    "        self.coef_ = np.random.randn(X.shape[1])\n",
    "        self.intercept_ = np.random.random()\n",
    "        \n",
    "        errors = []\n",
    "        \n",
    "        for k in range(20):\n",
    "            self.gradient_decend()\n",
    "            errors.append(self.error())\n",
    "            \n",
    "        return errors\n",
    "            \n",
    "    def gradient_decend(self):\n",
    "        delta_coef, delta_bias = self.gradient()\n",
    "        \n",
    "        self.coef_ += delta_coef\n",
    "        self.intercept_ += delta_bias\n",
    "        \n",
    "#         print(self.coef_, self.intercept_)\n",
    "        \n",
    "    def gradient(self):\n",
    "        yh = self.hypo(self.__X)\n",
    "        \n",
    "        diff = (yh - self.__y.reshape(-1, 1))\n",
    "        \n",
    "        del_err_coef = (np.dot(diff.T, self.__X)).flatten() / len(yh)\n",
    "        del_err_inter = (diff).mean()\n",
    "        \n",
    "        return -del_err_coef*self.__lr, -del_err_inter*self.__lr\n",
    "        \n",
    "    def hypo(self, X):\n",
    "        mx = np.sum(X * self.coef_, axis=1, keepdims=True)\n",
    "        return mx + self.intercept_\n",
    "    def predict(self , X):\n",
    "        X_mod = (X - self.__mean) / self.__std \n",
    "        y_h = self.hypo(X_mod)\n",
    "        return y_h.flatten()\n",
    "    \n",
    "    def error(self):\n",
    "        yh = self.hypo(self.__X)\n",
    "        diff = (yh - self.__y.reshape(-1, 1))\n",
    "        return (diff ** 2).mean()"
   ]
  },
  {
   "cell_type": "code",
   "execution_count": 9,
   "metadata": {},
   "outputs": [
    {
     "data": {
      "text/plain": [
       "[<matplotlib.lines.Line2D at 0x1a1bc74250>]"
      ]
     },
     "execution_count": 9,
     "metadata": {},
     "output_type": "execute_result"
    },
    {
     "data": {
      "image/png": "[encoded data removed]",
      "text/plain": [
       "<Figure size 432x288 with 1 Axes>"
      ]
     },
     "metadata": {
      "needs_background": "light"
     },
     "output_type": "display_data"
    }
   ],
   "source": [
    "model = CustomLinearRegression(lr=.3)\n",
    "errs = model.fit(X, y)\n",
    "\n",
    "plt.figure()\n",
    "plt.plot(errs)"
   ]
  },
  {
   "cell_type": "code",
   "execution_count": 10,
   "metadata": {},
   "outputs": [
    {
     "data": {
      "text/plain": [
       "array([28.00938584, 45.91418472, 16.60959821, 24.53008813, 19.34279739])"
      ]
     },
     "execution_count": 10,
     "metadata": {},
     "output_type": "execute_result"
    }
   ],
   "source": [
    "model.coef_"
   ]
  },
  {
   "cell_type": "code",
   "execution_count": 11,
   "metadata": {},
   "outputs": [],
   "source": [
    "from sklearn.datasets import load_boston"
   ]
  },
  {
   "cell_type": "code",
   "execution_count": 12,
   "metadata": {},
   "outputs": [],
   "source": [
    "d = load_boston()"
   ]
  },
  {
   "cell_type": "code",
   "execution_count": 13,
   "metadata": {},
   "outputs": [],
   "source": [
    "X, y = d.data, d.target"
   ]
  },
  {
   "cell_type": "code",
   "execution_count": 14,
   "metadata": {},
   "outputs": [],
   "source": [
    "model = CustomLinearRegression()"
   ]
  },
  {
   "cell_type": "code",
   "execution_count": 15,
   "metadata": {},
   "outputs": [
    {
     "data": {
      "text/plain": [
       "[1689167616614.966,\n",
       " 1.6537003309323926e+19,\n",
       " 1.619266788740371e+26,\n",
       " 1.585551804392086e+33,\n",
       " 1.5525388131530472e+40,\n",
       " 1.5202131899723475e+47,\n",
       " 1.488560623017725e+54,\n",
       " 1.4575670984930906e+61,\n",
       " 1.4272188943857818e+68,\n",
       " 1.39750257439104e+75,\n",
       " 1.3684049819632493e+82,\n",
       " 1.3399132344910307e+89,\n",
       " 1.3120147175936208e+96,\n",
       " 1.2846970795360037e+103,\n",
       " 1.2579482257603319e+110,\n",
       " 1.2317563135311994e+117,\n",
       " 1.2061097466924184e+124,\n",
       " 1.1809971705329548e+131,\n",
       " 1.156407466759768e+138,\n",
       " 1.1323297485753186e+145]"
      ]
     },
     "execution_count": 15,
     "metadata": {},
     "output_type": "execute_result"
    }
   ],
   "source": [
    "model.fit(X, y)"
   ]
  },
  {
   "cell_type": "code",
   "execution_count": 16,
   "metadata": {},
   "outputs": [
    {
     "data": {
      "text/plain": [
       "array([-4.70869896e+67, -1.04780657e+68, -1.26986142e+68, -7.19131137e+65,\n",
       "       -5.97928370e+66, -6.56106676e+67, -7.49600365e+68, -3.76360690e+67,\n",
       "       -1.16175473e+68, -4.63482756e+69, -1.96032410e+68, -3.74490060e+69,\n",
       "       -1.40097165e+68])"
      ]
     },
     "execution_count": 16,
     "metadata": {},
     "output_type": "execute_result"
    }
   ],
   "source": [
    "\n",
    "model.coef_"
   ]
  },
  {
   "cell_type": "code",
   "execution_count": 17,
   "metadata": {},
   "outputs": [
    {
     "data": {
      "text/plain": [
       "-1.050758062156777e+67"
      ]
     },
     "execution_count": 17,
     "metadata": {},
     "output_type": "execute_result"
    }
   ],
   "source": [
    "model.intercept_"
   ]
  },
  {
   "cell_type": "code",
   "execution_count": 18,
   "metadata": {},
   "outputs": [
    {
     "data": {
      "text/plain": [
       "array([2.19035803e+69, 2.98491567e+69, 3.65544911e+69, 4.55543853e+69,\n",
       "       4.17725598e+69, 4.24104236e+69, 1.55114979e+69, 5.57204349e+68,\n",
       "       7.11087532e+68, 1.29184624e+69])"
      ]
     },
     "execution_count": 18,
     "metadata": {},
     "output_type": "execute_result"
    }
   ],
   "source": [
    "model.predict(X[:10])"
   ]
  },
  {
   "cell_type": "code",
   "execution_count": 19,
   "metadata": {},
   "outputs": [
    {
     "data": {
      "text/plain": [
       "array([24. , 21.6, 34.7, 33.4, 36.2, 28.7, 22.9, 27.1, 16.5, 18.9])"
      ]
     },
     "execution_count": 19,
     "metadata": {},
     "output_type": "execute_result"
    }
   ],
   "source": [
    "y[:10]"
   ]
  },
  {
   "cell_type": "code",
   "execution_count": 20,
   "metadata": {},
   "outputs": [
    {
     "data": {
      "text/plain": [
       "506"
      ]
     },
     "execution_count": 20,
     "metadata": {},
     "output_type": "execute_result"
    }
   ],
   "source": [
    "len(X)"
   ]
  },
  {
   "cell_type": "code",
   "execution_count": 21,
   "metadata": {},
   "outputs": [
    {
     "data": {
      "text/plain": [
       "13"
      ]
     },
     "execution_count": 21,
     "metadata": {},
     "output_type": "execute_result"
    }
   ],
   "source": [
    "X.shape[1]"
   ]
  },
  {
   "cell_type": "code",
   "execution_count": null,
   "metadata": {},
   "outputs": [],
   "source": []
  }
 ],
 "metadata": {
  "kernelspec": {
   "display_name": "Python 3",
   "language": "python",
   "name": "python3"
  },
  "language_info": {
   "codemirror_mode": {
    "name": "ipython",
    "version": 3
   },
   "file_extension": ".py",
   "mimetype": "text/x-python",
   "name": "python",
   "nbconvert_exporter": "python",
   "pygments_lexer": "ipython3",
   "version": "3.7.4"
  }
 },
 "nbformat": 4,
 "nbformat_minor": 4
}
