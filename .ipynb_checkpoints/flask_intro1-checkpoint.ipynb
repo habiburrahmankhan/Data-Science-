{
 "cells": [
  {
   "cell_type": "code",
   "execution_count": 1,
   "metadata": {},
   "outputs": [],
   "source": [
    "from flask import Flask , templating"
   ]
  },
  {
   "cell_type": "code",
   "execution_count": 2,
   "metadata": {},
   "outputs": [],
   "source": [
    "app = Flask(\"chaccha app\")"
   ]
  },
  {
   "cell_type": "code",
   "execution_count": 3,
   "metadata": {},
   "outputs": [],
   "source": [
    "@app.route(\"/\")\n",
    "def hello():\n",
    "    return \"hello sir. how are you?\"\n",
    "\n",
    "@app.route(\"/login/\")\n",
    "def login():\n",
    "    return \"login here \"\n",
    "\n",
    "@app.route(\"/submitlocation/\" , methods=[\"POST\"])\n",
    "def another():\n",
    "    print(request.form)\n",
    "    return \"Response recived\" "
   ]
  },
  {
   "cell_type": "code",
   "execution_count": null,
   "metadata": {},
   "outputs": [
    {
     "name": "stdout",
     "output_type": "stream",
     "text": [
      " * Serving Flask app \"chaccha app\" (lazy loading)\n",
      " * Environment: production\n",
      "   WARNING: This is a development server. Do not use it in a production deployment.\n",
      "   Use a production WSGI server instead.\n",
      " * Debug mode: off\n"
     ]
    },
    {
     "name": "stderr",
     "output_type": "stream",
     "text": [
      " * Running on http://127.0.0.1:5000/ (Press CTRL+C to quit)\n",
      "127.0.0.1 - - [29/Feb/2020 13:47:29] \"GET /submitlocation/ HTTP/1.1\" 405 -\n",
      "127.0.0.1 - - [29/Feb/2020 13:47:36] \"GET / HTTP/1.1\" 200 -\n",
      "127.0.0.1 - - [29/Feb/2020 13:47:49] \"GET /submitlocation HTTP/1.1\" 405 -\n",
      "127.0.0.1 - - [29/Feb/2020 13:47:51] \"GET /submitlocation/ HTTP/1.1\" 405 -\n",
      "127.0.0.1 - - [29/Feb/2020 13:48:13] \"GET /submitlocation HTTP/1.1\" 405 -\n",
      "127.0.0.1 - - [29/Feb/2020 13:48:16] \"GET / HTTP/1.1\" 200 -\n"
     ]
    }
   ],
   "source": [
    "app.run()"
   ]
  },
  {
   "cell_type": "code",
   "execution_count": null,
   "metadata": {},
   "outputs": [],
   "source": []
  },
  {
   "cell_type": "code",
   "execution_count": null,
   "metadata": {},
   "outputs": [],
   "source": []
  }
 ],
 "metadata": {
  "kernelspec": {
   "display_name": "Python 3",
   "language": "python",
   "name": "python3"
  },
  "language_info": {
   "codemirror_mode": {
    "name": "ipython",
    "version": 3
   },
   "file_extension": ".py",
   "mimetype": "text/x-python",
   "name": "python",
   "nbconvert_exporter": "python",
   "pygments_lexer": "ipython3",
   "version": "3.7.4"
  }
 },
 "nbformat": 4,
 "nbformat_minor": 4
}
