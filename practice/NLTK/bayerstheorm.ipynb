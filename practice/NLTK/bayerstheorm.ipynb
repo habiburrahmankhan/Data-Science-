{
 "cells": [
  {
   "cell_type": "markdown",
   "metadata": {},
   "source": [
    "## Bayer theorm "
   ]
  },
  {
   "cell_type": "markdown",
   "metadata": {},
   "source": [
    "- Bayes’ theorem relates the conditional and marginal probabilities of stochastic   events A and B:\n",
    "-     P(A|B) = P(B|A)* P(A) / P(B)"
   ]
  },
  {
   "cell_type": "markdown",
   "metadata": {},
   "source": [
    "####  Each term in Bayes’ theorem has a conventional name:\n",
    "- P(A) is the prior probability or marginal probability of A. It is ”prior” in the sense that it does not take into account any information about B.\n",
    "- P(A|B) is the conditional probability of A, given B. It is also called the posterior probability because it is derived from or depends upon the speciﬁed   value of B.\n",
    "- P(B|A) is the conditional probability of B given A.\n",
    "- P(B) is the prior or marginal probability of B, and acts as a normalizing constant."
   ]
  },
  {
   "cell_type": "code",
   "execution_count": null,
   "metadata": {},
   "outputs": [],
   "source": []
  }
 ],
 "metadata": {
  "kernelspec": {
   "display_name": "Python 3",
   "language": "python",
   "name": "python3"
  },
  "language_info": {
   "codemirror_mode": {
    "name": "ipython",
    "version": 3
   },
   "file_extension": ".py",
   "mimetype": "text/x-python",
   "name": "python",
   "nbconvert_exporter": "python",
   "pygments_lexer": "ipython3",
   "version": "3.7.4"
  }
 },
 "nbformat": 4,
 "nbformat_minor": 4
}
