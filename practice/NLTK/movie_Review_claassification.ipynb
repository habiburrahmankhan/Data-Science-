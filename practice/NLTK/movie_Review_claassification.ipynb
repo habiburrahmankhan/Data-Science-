{
 "cells": [
  {
   "cell_type": "markdown",
   "metadata": {},
   "source": [
    "#### create NLP"
   ]
  },
  {
   "cell_type": "code",
   "execution_count": 1,
   "metadata": {},
   "outputs": [],
   "source": [
    "import numpy as np \n",
    "import pandas as pd \n",
    "import matplotlib.pyplot as plt \n"
   ]
  },
  {
   "cell_type": "code",
   "execution_count": 3,
   "metadata": {},
   "outputs": [],
   "source": [
    "sample_text = \"\"\"I loved this movie since I was 7 and I saw it on the opening day. It was so touching and beautiful. I strongly recommend seeing for all. It's a movie to watch with your family by far.<br /><br />My MPAA rating: PG-13 for thematic elements, prolonged scenes of disastor, nudity/sexuality and some language.\"\"\""
   ]
  },
  {
   "cell_type": "markdown",
   "metadata": {},
   "source": [
    "### NLTK"
   ]
  },
  {
   "cell_type": "code",
   "execution_count": 4,
   "metadata": {},
   "outputs": [],
   "source": [
    "from nltk.tokenize import RegexpTokenizer\n",
    "from nltk.stem.porter import PorterStemmer\n",
    "from nltk.corpus import stopwords"
   ]
  },
  {
   "cell_type": "code",
   "execution_count": 5,
   "metadata": {},
   "outputs": [],
   "source": [
    "tokenizer = RegexpTokenizer(r'\\w+')\n",
    "en_stopwords = set(stopwords.words('english'))\n",
    "ps = PorterStemmer()"
   ]
  },
  {
   "cell_type": "code",
   "execution_count": 7,
   "metadata": {},
   "outputs": [],
   "source": [
    "def getStemmedReview(review):\n",
    "    review= review.lower()\n",
    "    review = review.replace(\"<br /><br / >\" , \" \")\n",
    "    tokens = tokenizer.tokenize(review)\n",
    "    new_tokens = [token for token in tokens if token not in en_stopwords]\n",
    "    stemmed_tokens = [ps.stem(token) for token in new_tokens]\n",
    "    cleaned_review  = \" \".join(stemmed_tokens)\n",
    "    return cleaned_review\n"
   ]
  },
  {
   "cell_type": "code",
   "execution_count": 8,
   "metadata": {},
   "outputs": [
    {
     "data": {
      "text/plain": [
       "'love movi sinc 7 saw open day touch beauti strongli recommend see movi watch famili far br br mpaa rate pg 13 themat element prolong scene disastor nuditi sexual languag'"
      ]
     },
     "execution_count": 8,
     "metadata": {},
     "output_type": "execute_result"
    }
   ],
   "source": [
    "getStemmedReview(sample_text)"
   ]
  },
  {
   "cell_type": "code",
   "execution_count": 12,
   "metadata": {},
   "outputs": [],
   "source": [
    "def getStemmedDocument(inputfile , outputfile):\n",
    "    out = open(outputfile , 'w')\n",
    "    with open(inputfile) as f : \n",
    "        reviews = f.readlines()\n",
    "    for review in reviews:\n",
    "        clean_review = getStemmedReview(review)\n",
    "        print((clean_review) , file= out)\n",
    "    out.close()"
   ]
  },
  {
   "cell_type": "code",
   "execution_count": 13,
   "metadata": {},
   "outputs": [],
   "source": [
    "getStemmedDocument(\"imdb_trainX.txt\", \"imdb_train_X_clean.txt\")"
   ]
  },
  {
   "cell_type": "code",
   "execution_count": 15,
   "metadata": {},
   "outputs": [],
   "source": [
    "df = pd.read_csv(\"Train.csv\")\n"
   ]
  },
  {
   "cell_type": "code",
   "execution_count": 23,
   "metadata": {},
   "outputs": [],
   "source": [
    "data = df.values\n",
    "X=data[: ,0]\n",
    "y = data[ : ,1]\n",
    "df = pd.DataFrame(X)"
   ]
  },
  {
   "cell_type": "code",
   "execution_count": 25,
   "metadata": {},
   "outputs": [],
   "source": [
    "df.to_csv(\"Trainreview.csv\" , index =False )"
   ]
  },
  {
   "cell_type": "code",
   "execution_count": 26,
   "metadata": {},
   "outputs": [],
   "source": [
    "getStemmedDocument(\"Trainreview.csv\", \"train_clean.txt\")"
   ]
  },
  {
   "cell_type": "code",
   "execution_count": 27,
   "metadata": {},
   "outputs": [
    {
     "data": {
      "text/plain": [
       "array([\"mature intelligent and highly charged melodrama unbelivebly filmed in China in 1948. wei wei's stunning performance as the catylast in a love triangle is simply stunning if you have the oppurunity to see this magnificent film take it\",\n",
       "       'http://video.google.com/videoplay?docid=211772166650071408&hl=en Distribution was tried.<br /><br />We opted for mass appeal.<br /><br />We want the best possible viewing range so, we forgo profit and continue our manual labor jobs gladly to entertain you for working yours.<br /><br />View Texas tale, please write about it... If you like it or not, if you like Alex or not, if you like Stuie, Texas or Texas tale... Just write about it.<br /><br />Your opinion rules.',\n",
       "       \"Title: Opera (1987) Director: Dario Argento Cast: Cristina Masillach, Ian Charleson, Urbano Barberini, Daria Nicolodi Review: The only other Argento movie I had seen was Suspiria and that one blew me away with its style, colors and spooky story line. I next decided to go with Opera as I had been told it was one of his best. Man, I think I'm discovering what will ultimately be one of my favorite horror directors.<br /><br />Opera is about a young opera singer who gets her big break when the main star of a creepy modern opera take on Mc Beth gets hit by a car. Betty is the understudy so she gets to do the part herself. Too bad for her there's a psycho after her who makes her watch the brutal murders of her friends and co-workers.<br /><br />Wow, Id heard good things about this here flick, but I wasn't prepared for the level of greatness to which this film would take me. Yeah the movie has its shortcomings to which Ill get to later. But for the most part the movie blew me away.<br /><br />First off, this movie is not as filled with lots of colors as Suspiria. I was expecting it to be a bit like suspiria in that department, but no, to my surprise it had its own look and feel. The film is somehow devoid of color. It does have lots in colors in certain scenes (like the masterful kitchen/living room sequence) where Argento fills the screen with lush greens and blues, but for the most part the film has a grayish, black tone to it all through out and I liked that it had its own distinctive look.<br /><br />The real stars of this show are the incredibly well orchestrated death sequences. Wow. Every death scene was like a work of art. Beauty in destruction. These are not just your typical hack and slash death sequences, these deaths were carefully constructed to shock and get the most out of its situations. Loved every second of them, there's plenty of blood and mayhem here, but with style. Not gonna spoil em though.<br /><br />Then there's the direction. Man, there's some really original and beautiful shots on this one. I loved the inventive use of the camera on this one. You thought that Tarantinos shot in Kill Bill vol. 1 where we see the bullet coming out of the chamber of the gun was original? Well this is the movie he lifted it from! I honestly believe that Tarantino was heavily influenced by this specific movie with certain scenes in Kill Bill Vol. 1. Heck in the making of feature he mentions that the whole scene with Beatrix in the hospital and Elle Driver coming to kill her was influenced by Italian Giallos, and here my friends is the proof of that. Anyhows, Tarantino references aside, this movie has some amazing camera shots, like those scenes of the crows flying through the crowd in the opera house...great stuff. And a main reason why Argentos becoming one of my favorites.<br /><br />The acting from most of the cast was alright, but the best by far was Cristina Marsillach as the tortured young opera singer Betty. The looks in her eyes as the murders were being committed were great. The rest of the cast was a little wooden and stiff, but nothing that would deter your enjoyment of the film.<br /><br />There were very few things I didn't like about this movie. First off logic was thrown out the window in certain scenes. Specially those involving Bettys reactions after shes seen the murders. It seem to me that for the longest time, she just went on about her business, not telling anyone about the whole thing. Not even the police. I mean if you see someone brutally murder a loved one in front of your eyes...you don't just walk away from the murder scene and continue with your life. Someone would have connected her to the murders. She might have even become a suspect herself...but no. Also the ending is a bit anti climactic. You'll have to see this to understand, but it seemed a bit unnecessary the way the film ended, it felt like it could have ended earlier. It would not have felt so redundant. But thats about it, not real big problems for me really since I was enjoying the rest of this beautiful film.<br /><br />I've still got a lot of Argento territory to cover...but I'm devouring every step of the way like if I was eating a plate of the most expensive caviar. This guys really good. I think of his films as works of art, and I've only seen two of em! Cant wait to discover the rest of his films. Argento, you the man! <br /><br />Rating: 41/2 out of 5\",\n",
       "       ...,\n",
       "       'Much of \"Over Her Dead Body\" is so painfully unfunny that I was actually squirming in my seat out of embarrassment for the actors.<br /><br />Eva Longoria proves that she can\\'t carry a film in this terrible romantic comedy, and further, that she doesn\\'t really even have any comedic timing. She\\'s grating and annoying as a ghost who returns to earth to keep a cooky psychic from dating her widower fiancÃ©. The fiancÃ© is played by Paul Rudd, drippy and charmless, while the psychic is played by Lake Bell, bringing the movie whatever anemic energy it has. I felt most sorry for Bell, as she appears to have some comic abilities and was working overtime in an effort to make the material work. Unfortunately, she is up against the insurmountable task of making any movie that features Jason Biggs tolerable, and she is dragged down with the rest of the cast like Leo DiCaprio at the end of \"Titanic.\" <br /><br />\"Over Her Dead Body\" actually pi**ed me off, because of its laziness and utter lack of effort. I started to think of all the interesting projects that can\\'t get funded because vast amounts of money are being funneled into bland crap like this. Seriously, does Hollywood think movies like this are good enough? How stupid do they really think the movie-going public is? <br /><br />Grade: F',\n",
       "       '\"Lifeforce\" is a truly bizarre adaptation of the novel \"The Space Vampires\" by Colin Wilson, scripted by Dan O\\'Bannon & Don Jakoby. A joint American-British space exploration team makes a mind-boggling discovery: an alien spacecraft resting inside Halleys\\' Comet, containing three entities that look like people, one of them a female beauty (the oh-so-alluring Mathilda May).<br /><br />They take these discoveries back on board their own spacecraft. Big mistake.<br /><br />It turns out that these creatures drain the life out of human beings, and as American colonel Carlsen (an intense, edgy, and committed Steve Railsback) and British S.A.S. colonel Caine (a solid Peter Firth) watch in horror, an infestation of vampirism overtakes London, with the fate of Earth in the balance.<br /><br />This picture certainly is not lacking in imagination. It moves a little slowly at times but offers so many strange and fanciful ideas and eye-popping visuals that it\\'s hard not to be amused. The first of director Tobe Hoopers\\' three-picture deal with Cannon Films (he followed it up with \"Texas Chainsaw Massacre II\" and the \"Invaders from Mars\" remake), he makes it something truly unique. Incorporating elements of sci-fi, vampire films, zombie films, and end-of-the-world sagas, it\\'s like nothing that I\\'ve seen before.<br /><br />Railsback and Firth are ably supported by such strong Brit actors as Frank Finlay, Patrick Stewart, Michael Gothard, Aubrey Morris, and John Hallam. Mathilda May is very memorable as the bewitching, enigmatic villainess; it certainly doesn\\'t hurt that she performs a great deal of her scenes in the nude. Also worth noting is a stirring music score from none other than \"Pink Panther\" composer Henry Mancini.<br /><br />Ridiculous it may be, but I found it to be fun as well. It\\'s flamboyant and spirited entertainment.<br /><br />8/10',\n",
       "       \"I saw this movie at a screener and its the best movie I have seen in a loooong time. I loved it!!!! James Franco is sooo hot and him and Sienna Miller make the perfect couple. I don't want to give away what happens but they play a pair of newlyweds who go off on their honeymoon to Niagara Falls and some pretty wild stuff happens along the way....The movie is really really funny and sad and original. I can't even say what it reminded me of, but go see it! I cried so hard but really loved it and wanna see it again as soon as it comes out! My friends cried too. I hope it comes out soon - does anyone know when? i would really go see it if i were you\"],\n",
       "      dtype=object)"
      ]
     },
     "execution_count": 27,
     "metadata": {},
     "output_type": "execute_result"
    }
   ],
   "source": [
    "X"
   ]
  },
  {
   "cell_type": "code",
   "execution_count": null,
   "metadata": {},
   "outputs": [],
   "source": []
  }
 ],
 "metadata": {
  "kernelspec": {
   "display_name": "Python 3",
   "language": "python",
   "name": "python3"
  },
  "language_info": {
   "codemirror_mode": {
    "name": "ipython",
    "version": 3
   },
   "file_extension": ".py",
   "mimetype": "text/x-python",
   "name": "python",
   "nbconvert_exporter": "python",
   "pygments_lexer": "ipython3",
   "version": "3.7.4"
  }
 },
 "nbformat": 4,
 "nbformat_minor": 4
}
