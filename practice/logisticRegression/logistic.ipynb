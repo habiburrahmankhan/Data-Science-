{
 "cells": [
  {
   "cell_type": "markdown",
   "metadata": {},
   "source": [
    "### Logistic Regression "
   ]
  },
  {
   "cell_type": "code",
   "execution_count": 1,
   "metadata": {},
   "outputs": [],
   "source": [
    "import numpy as np "
   ]
  },
  {
   "cell_type": "code",
   "execution_count": 2,
   "metadata": {},
   "outputs": [],
   "source": [
    "import matplotlib.pyplot as plt \n",
    "import pandas as pd\n",
    "\n",
    "plt.style.use(\"seaborn\")"
   ]
  },
  {
   "cell_type": "code",
   "execution_count": 3,
   "metadata": {},
   "outputs": [
    {
     "name": "stdout",
     "output_type": "stream",
     "text": [
      "(500, 2)\n",
      "(500, 2)\n"
     ]
    }
   ],
   "source": [
    "mean_01 = np.array([1,0.5])\n",
    "cov_01 = np.array([[1,0.1] , [.1 , 1.2]])\n",
    "\n",
    "mean_02 = np.array([4,5])\n",
    "cov_02 = np.array([[1.21,0.1] , [.1 , 1.3]])\n",
    "\n",
    "dist_01 = np.random.multivariate_normal(mean_01 , cov_01 , 500)\n",
    "dist_02 = np.random.multivariate_normal(mean_02 , cov_02 , 500)\n",
    "\n",
    "print(dist_01.shape)\n",
    "print(dist_02.shape)"
   ]
  },
  {
   "cell_type": "markdown",
   "metadata": {},
   "source": [
    "##  Data Viualisation "
   ]
  },
  {
   "cell_type": "code",
   "execution_count": 4,
   "metadata": {},
   "outputs": [
    {
     "name": "stdout",
     "output_type": "stream",
     "text": [
      "(1000, 3)\n"
     ]
    }
   ],
   "source": [
    "data = np.zeros((1000 , 3))\n",
    "print(data.shape)\n",
    "data[: 500,:2] = dist_01\n",
    "data[500  : , :2] = dist_02\n",
    "data[500 : , -1] = 1.0"
   ]
  },
  {
   "cell_type": "code",
   "execution_count": 5,
   "metadata": {},
   "outputs": [
    {
     "name": "stdout",
     "output_type": "stream",
     "text": [
      "[[ 2.8639995   5.69251885  1.        ]\n",
      " [ 2.77275245  5.94150303  1.        ]\n",
      " [ 5.29864315  6.10819823  1.        ]\n",
      " [ 4.65019392  5.34346176  1.        ]\n",
      " [ 5.03682632  3.46291235  1.        ]\n",
      " [ 1.16637683  0.76279114  0.        ]\n",
      " [ 6.35481559  6.16807638  1.        ]\n",
      " [ 3.22925267  4.6112873   1.        ]\n",
      " [-0.23944524  2.4770623   0.        ]\n",
      " [ 1.23318405 -0.0221622   0.        ]]\n"
     ]
    }
   ],
   "source": [
    "np.random.shuffle(data)\n",
    "print(data[: 10])"
   ]
  },
  {
   "cell_type": "code",
   "execution_count": 6,
   "metadata": {},
   "outputs": [],
   "source": [
    "split = int(0.8*data.shape[0])\n"
   ]
  },
  {
   "cell_type": "code",
   "execution_count": 7,
   "metadata": {},
   "outputs": [],
   "source": [
    "X_train = data[:split , : -1]\n",
    "X_test = data[split : , : -1]\n",
    "Y_train = data[: split , -1]\n",
    "Y_test = data[split: ,-1]"
   ]
  },
  {
   "cell_type": "code",
   "execution_count": 8,
   "metadata": {},
   "outputs": [
    {
     "name": "stdout",
     "output_type": "stream",
     "text": [
      "(800, 2) (200, 2)\n",
      "(800,) (200,)\n"
     ]
    }
   ],
   "source": [
    "print(X_train.shape,X_test.shape)\n",
    "print(Y_train.shape,Y_test.shape)"
   ]
  },
  {
   "cell_type": "code",
   "execution_count": 9,
   "metadata": {},
   "outputs": [
    {
     "data": {
      "image/png": "[encoded data removed]",
      "text/plain": [
       "<Figure size 432x288 with 1 Axes>"
      ]
     },
     "metadata": {
      "needs_background": "light"
     },
     "output_type": "display_data"
    }
   ],
   "source": [
    "plt.scatter(dist_01[: , 0] ,dist_01[: , 1] , label= \"Class 0\" ) \n",
    "plt.scatter(dist_02[: , 0] ,dist_02[: , 1] ,color =  \"r\" , marker=\"*\" ,label= \"Class 1\" ) \n",
    "plt.xlim(-5 , 10)\n",
    "plt.ylim(-5 , 10)\n",
    "plt.xlabel(\"x1\")\n",
    "plt.ylabel(\"x2\")\n",
    "plt.legend()\n",
    "plt.show()"
   ]
  },
  {
   "cell_type": "code",
   "execution_count": 10,
   "metadata": {},
   "outputs": [],
   "source": [
    "def hypothesis(x,w,b):\n",
    "    # accpt input vector x , input weight vector w and bias b \n",
    "    h = np.dot(x , w)  + b\n",
    "    return sigmoid(h)\n",
    "def sigmoid(z):\n",
    "    return 1.0 / (1.0 + np.exp(-1.0*z))\n",
    "\n",
    "\n",
    "def error(y_true , x ,w, b):\n",
    "    \n",
    "    m = x.shape[0]\n",
    "    err = 0.0\n",
    "    for i  in range(m):\n",
    "        hx = hypothesis(x[i] , w ,b)\n",
    "        err += y_true[i]*np.log2(hx)  + (1 - y_true[i])*np.log2(1-hx)\n",
    "        \n",
    "    return -err/m\n",
    "\n",
    "def get_grads(y_true , x ,w ,b):\n",
    "    grad_w = np.zeros(w.shape)\n",
    "    grad_b  = 0.0\n",
    "    m = x.shape[0]\n",
    "    \n",
    "    for i in range(m):\n",
    "        hx = hypothesis(x[i] , w ,b)\n",
    "        grad_w += (y_true[i] - hx)*x[i]\n",
    "        grad_b +=  (y_true[i] - hx)\n",
    "    grad_w /=m\n",
    "    grad_b  /=m\n",
    "    return [grad_w , grad_b]\n",
    "\n",
    "\n",
    "\n",
    "def grad_desent(x , y_true , w , b ,lr = 0.1):\n",
    "    err = error(y_true , x ,w ,b)\n",
    "    [grad_w , grad_b] = get_grads(y_true , x, w ,b)\n",
    "    \n",
    "    w = w + lr * grad_w\n",
    "    b = b + lr* grad_b\n",
    "    return err , w ,b\n",
    "\n",
    "\n",
    "def predict(x , w, b):\n",
    "    confidence = hypothesis(x , w ,b)\n",
    "    if confidence < 0.5:\n",
    "        return 0\n",
    "    else:\n",
    "        return 1\n",
    "\n",
    "def get_acc(xtest , ytest , w ,b):\n",
    "        \n",
    "        y_pred = []\n",
    "        \n",
    "        for i in range(ytest.shape[0]):\n",
    "            p = predict(xtest[i] , w ,b)\n",
    "            y_pred.append(p)\n",
    "        \n",
    "        y_pred = np.array(y_pred)\n",
    "        return ((y_pred==Y_test).sum()) / ytest.shape[0]\n",
    "    \n",
    "\n"
   ]
  },
  {
   "cell_type": "code",
   "execution_count": 31,
   "metadata": {},
   "outputs": [
    {
     "name": "stdout",
     "output_type": "stream",
     "text": [
      "[0.90782648 1.42015905] 4.798122277862777\n"
     ]
    }
   ],
   "source": [
    "loss = [] \n",
    "acc = []\n",
    "W = 2*np.random.random((X_train.shape[1] , ))\n",
    "b = 5*np.random.random()\n",
    "print(W , b)\n",
    "for i in range(1000):\n",
    "    l , W, b = grad_desent(X_train , Y_train  ,W , b ,lr = 0.5)\n",
    "    acc.append(get_acc(X_test , Y_test , W , b))\n",
    "    loss.append(l)"
   ]
  },
  {
   "cell_type": "code",
   "execution_count": 12,
   "metadata": {},
   "outputs": [
    {
     "data": {
      "image/png": "[encoded data removed]",
      "text/plain": [
       "<Figure size 432x288 with 1 Axes>"
      ]
     },
     "metadata": {
      "needs_background": "light"
     },
     "output_type": "display_data"
    }
   ],
   "source": [
    "plt.plot(loss)\n",
    "plt.ylabel(\"Negative of log Likelihood\")\n",
    "plt.xlabel(\"Time\")\n",
    "\n",
    "plt.show()"
   ]
  },
  {
   "cell_type": "code",
   "execution_count": 13,
   "metadata": {},
   "outputs": [
    {
     "data": {
      "image/png": "[encoded data removed]",
      "text/plain": [
       "<Figure size 432x288 with 1 Axes>"
      ]
     },
     "metadata": {
      "needs_background": "light"
     },
     "output_type": "display_data"
    }
   ],
   "source": [
    "plt.plot(acc)\n",
    "plt.ylabel(\"Negative of log Likelihood\")\n",
    "plt.xlabel(\"Time\")\n",
    "\n",
    "plt.show()"
   ]
  },
  {
   "cell_type": "code",
   "execution_count": 14,
   "metadata": {},
   "outputs": [
    {
     "name": "stdout",
     "output_type": "stream",
     "text": [
      "0.995\n"
     ]
    }
   ],
   "source": [
    "print(acc[-1])"
   ]
  },
  {
   "cell_type": "code",
   "execution_count": 15,
   "metadata": {},
   "outputs": [
    {
     "data": {
      "image/png": "[encoded data removed]",
      "text/plain": [
       "<Figure size 432x288 with 1 Axes>"
      ]
     },
     "metadata": {
      "needs_background": "light"
     },
     "output_type": "display_data"
    }
   ],
   "source": [
    "plt.scatter(dist_01[: , 0] ,dist_01[: , 1] , label= \"Class 0\" ) \n",
    "plt.scatter(dist_02[: , 0] ,dist_02[: , 1] ,color =  \"r\" , marker=\"*\" ,label= \"Class 1\" ) \n",
    "\n",
    "x = np.linspace(-4 , 8 ,10)\n",
    "y = -(W[0]*x + b  ) / W[1]\n",
    "plt.plot(x , y ,color =  \"black\")\n",
    "\n",
    "plt.xlim(-5 , 10)\n",
    "plt.ylim(-5 , 10)\n",
    "plt.xlabel(\"x1\")\n",
    "plt.ylabel(\"x2\")\n",
    "plt.legend()\n",
    "plt.show()"
   ]
  },
  {
   "cell_type": "code",
   "execution_count": 63,
   "metadata": {},
   "outputs": [
    {
     "name": "stdout",
     "output_type": "stream",
     "text": [
      "[-3.4013996   2.64486327 -2.45338358]\n",
      "-3.490362819302716\n"
     ]
    }
   ],
   "source": [
    "print(W)\n",
    "print(b)"
   ]
  },
  {
   "cell_type": "code",
   "execution_count": 67,
   "metadata": {},
   "outputs": [],
   "source": [
    "dfx = pd.read_csv(\"../logisticRegression/TrainingData/Logistic_X_Train.csv\")\n",
    "dfy = pd.read_csv(\"../logisticRegression/TrainingData/Logistic_Y_Train.csv\")"
   ]
  },
  {
   "cell_type": "code",
   "execution_count": 68,
   "metadata": {},
   "outputs": [],
   "source": [
    "X = dfx.values\n",
    "Y = dfy.values.reshape((-1, ))"
   ]
  },
  {
   "cell_type": "code",
   "execution_count": 69,
   "metadata": {},
   "outputs": [
    {
     "name": "stdout",
     "output_type": "stream",
     "text": [
      "(3000, 3) (3000,)\n"
     ]
    }
   ],
   "source": [
    "print(X.shape,Y.shape)\n",
    "X = (X - X.mean() ) / X.std() "
   ]
  },
  {
   "cell_type": "code",
   "execution_count": 70,
   "metadata": {},
   "outputs": [
    {
     "name": "stdout",
     "output_type": "stream",
     "text": [
      "[[-1.23608005  0.31486715 -0.6816324 ]\n",
      " [-1.0775092   0.35568662 -1.27066137]\n",
      " [-0.74953968  0.96256718 -1.35506599]\n",
      " ...\n",
      " [-0.20055496  1.00879471 -1.98037664]\n",
      " [ 0.92016383  0.40076717  0.90468374]\n",
      " [-1.0336338   0.17045789 -1.47008557]] [1 1 1 ... 1 0 1]\n"
     ]
    }
   ],
   "source": [
    "print(X,Y)"
   ]
  },
  {
   "cell_type": "code",
   "execution_count": 71,
   "metadata": {},
   "outputs": [
    {
     "data": {
      "image/png": "[encoded data removed]",
      "text/plain": [
       "<Figure size 432x288 with 1 Axes>"
      ]
     },
     "metadata": {
      "needs_background": "light"
     },
     "output_type": "display_data"
    }
   ],
   "source": [
    "plt.scatter(X[:,0] ,X[:,2] , label= \"Class 0\" ) \n",
    "plt.show()\n",
    "#plt.scatter(dist_02[: , 0] ,dist_02[: , 1] ,color =  \"r\" , marker=\"*\" ,label= \"Class 1\" ) "
   ]
  },
  {
   "cell_type": "code",
   "execution_count": 72,
   "metadata": {},
   "outputs": [],
   "source": [
    "dftest = pd.read_csv(\"../logisticRegression/TestCases/Logistic_X_Test.csv\")"
   ]
  },
  {
   "cell_type": "code",
   "execution_count": 73,
   "metadata": {},
   "outputs": [],
   "source": [
    "Xtest = dftest.values"
   ]
  },
  {
   "cell_type": "code",
   "execution_count": null,
   "metadata": {},
   "outputs": [],
   "source": [
    "\n"
   ]
  },
  {
   "cell_type": "code",
   "execution_count": null,
   "metadata": {},
   "outputs": [],
   "source": []
  },
  {
   "cell_type": "code",
   "execution_count": null,
   "metadata": {},
   "outputs": [],
   "source": []
  },
  {
   "cell_type": "code",
   "execution_count": 74,
   "metadata": {},
   "outputs": [
    {
     "name": "stdout",
     "output_type": "stream",
     "text": [
      "(3,)\n"
     ]
    }
   ],
   "source": [
    "loss = [] \n",
    "acc = []\n",
    "W = 2*np.random.random((X.shape[1] , ))\n",
    "b = 5*np.random.random()\n",
    "print(W.shape)"
   ]
  },
  {
   "cell_type": "code",
   "execution_count": 75,
   "metadata": {},
   "outputs": [],
   "source": [
    "for i in range(1000):    \n",
    "    l , W, b = grad_desent(X , Y  ,W , b ,lr = 0.5)\n",
    "    loss.append(l)"
   ]
  },
  {
   "cell_type": "code",
   "execution_count": null,
   "metadata": {},
   "outputs": [],
   "source": []
  },
  {
   "cell_type": "code",
   "execution_count": 76,
   "metadata": {},
   "outputs": [
    {
     "name": "stdout",
     "output_type": "stream",
     "text": [
      "[-4.01893769  3.11651736 -2.97480062]\n"
     ]
    }
   ],
   "source": [
    "print(W)"
   ]
  },
  {
   "cell_type": "code",
   "execution_count": 77,
   "metadata": {},
   "outputs": [
    {
     "name": "stdout",
     "output_type": "stream",
     "text": [
      "-4.200001130759829\n"
     ]
    }
   ],
   "source": [
    "print(b)"
   ]
  },
  {
   "cell_type": "code",
   "execution_count": 78,
   "metadata": {},
   "outputs": [
    {
     "data": {
      "image/png": "[encoded data removed]",
      "text/plain": [
       "<Figure size 432x288 with 1 Axes>"
      ]
     },
     "metadata": {
      "needs_background": "light"
     },
     "output_type": "display_data"
    }
   ],
   "source": [
    "plt.plot(loss)\n",
    "plt.show()"
   ]
  },
  {
   "cell_type": "code",
   "execution_count": 79,
   "metadata": {},
   "outputs": [],
   "source": [
    "y = []\n",
    "for i in range(Xtest.shape[0]):\n",
    "    y_ = predict(Xtest[i] , W , b)\n",
    "    y.append(y_)\n",
    "    "
   ]
  },
  {
   "cell_type": "code",
   "execution_count": 80,
   "metadata": {},
   "outputs": [],
   "source": [
    "y = np.array(y)"
   ]
  },
  {
   "cell_type": "code",
   "execution_count": 81,
   "metadata": {},
   "outputs": [
    {
     "name": "stdout",
     "output_type": "stream",
     "text": [
      "(1000,)\n"
     ]
    }
   ],
   "source": [
    "print(y.shape)"
   ]
  },
  {
   "cell_type": "code",
   "execution_count": 82,
   "metadata": {},
   "outputs": [
    {
     "data": {
      "text/html": [
       "<div>\n",
       "<style scoped>\n",
       "    .dataframe tbody tr th:only-of-type {\n",
       "        vertical-align: middle;\n",
       "    }\n",
       "\n",
       "    .dataframe tbody tr th {\n",
       "        vertical-align: top;\n",
       "    }\n",
       "\n",
       "    .dataframe thead th {\n",
       "        text-align: right;\n",
       "    }\n",
       "</style>\n",
       "<table border=\"1\" class=\"dataframe\">\n",
       "  <thead>\n",
       "    <tr style=\"text-align: right;\">\n",
       "      <th></th>\n",
       "      <th>label</th>\n",
       "    </tr>\n",
       "  </thead>\n",
       "  <tbody>\n",
       "    <tr>\n",
       "      <td>0</td>\n",
       "      <td>1</td>\n",
       "    </tr>\n",
       "    <tr>\n",
       "      <td>1</td>\n",
       "      <td>1</td>\n",
       "    </tr>\n",
       "    <tr>\n",
       "      <td>2</td>\n",
       "      <td>0</td>\n",
       "    </tr>\n",
       "    <tr>\n",
       "      <td>3</td>\n",
       "      <td>1</td>\n",
       "    </tr>\n",
       "    <tr>\n",
       "      <td>4</td>\n",
       "      <td>1</td>\n",
       "    </tr>\n",
       "  </tbody>\n",
       "</table>\n",
       "</div>"
      ],
      "text/plain": [
       "   label\n",
       "0      1\n",
       "1      1\n",
       "2      0\n",
       "3      1\n",
       "4      1"
      ]
     },
     "execution_count": 82,
     "metadata": {},
     "output_type": "execute_result"
    }
   ],
   "source": [
    "df = pd.DataFrame(data=y  , columns=[ \"label\"])\n",
    "df.to_csv(\"chemical.csv\", index = False)\n",
    "df.head()"
   ]
  },
  {
   "cell_type": "code",
   "execution_count": null,
   "metadata": {},
   "outputs": [],
   "source": []
  },
  {
   "cell_type": "code",
   "execution_count": null,
   "metadata": {},
   "outputs": [],
   "source": []
  },
  {
   "cell_type": "code",
   "execution_count": null,
   "metadata": {},
   "outputs": [],
   "source": []
  },
  {
   "cell_type": "code",
   "execution_count": null,
   "metadata": {},
   "outputs": [],
   "source": []
  }
 ],
 "metadata": {
  "kernelspec": {
   "display_name": "Python 3",
   "language": "python",
   "name": "python3"
  },
  "language_info": {
   "codemirror_mode": {
    "name": "ipython",
    "version": 3
   },
   "file_extension": ".py",
   "mimetype": "text/x-python",
   "name": "python",
   "nbconvert_exporter": "python",
   "pygments_lexer": "ipython3",
   "version": "3.7.4"
  }
 },
 "nbformat": 4,
 "nbformat_minor": 4
}
