{
 "cells": [
  {
   "cell_type": "code",
   "execution_count": 1,
   "metadata": {},
   "outputs": [],
   "source": [
    "from flask import Flask , templating ,request , redirect "
   ]
  },
  {
   "cell_type": "code",
   "execution_count": 2,
   "metadata": {},
   "outputs": [],
   "source": [
    "app = Flask(\"chaccha app\")"
   ]
  },
  {
   "cell_type": "code",
   "execution_count": 3,
   "metadata": {},
   "outputs": [],
   "source": [
    "@app.route(\"/\")\n",
    "def hello():\n",
    "    return \"hello sir. how are you?\"\n",
    "\n",
    "@app.route(\"/login/\")\n",
    "def login():\n",
    "    return \"login here \"\n",
    "\n",
    "@app.route(\"/submitlocation/\" , methods=[\"GET\" , \"POST\"])\n",
    "def another():\n",
    "    if request.method==\"GET\":\n",
    "        redirect(\"/\")\n",
    "    else:\n",
    "        print(request.form)\n",
    "        return jsonify(request.form)"
   ]
  },
  {
   "cell_type": "code",
   "execution_count": null,
   "metadata": {},
   "outputs": [
    {
     "name": "stdout",
     "output_type": "stream",
     "text": [
      " * Serving Flask app \"chaccha app\" (lazy loading)\n",
      " * Environment: production\n",
      "   WARNING: This is a development server. Do not use it in a production deployment.\n",
      "   Use a production WSGI server instead.\n",
      " * Debug mode: off\n"
     ]
    },
    {
     "name": "stderr",
     "output_type": "stream",
     "text": [
      " * Running on http://127.0.0.1:5000/ (Press CTRL+C to quit)\n",
      "127.0.0.1 - - [29/Feb/2020 13:55:01] \"GET / HTTP/1.1\" 200 -\n",
      "[2020-02-29 13:55:07,200] ERROR in app: Exception on /submitlocation/ [GET]\n",
      "Traceback (most recent call last):\n",
      "  File \"/Users/habiburrahmankhan/opt/anaconda3/lib/python3.7/site-packages/flask/app.py\", line 2446, in wsgi_app\n",
      "    response = self.full_dispatch_request()\n",
      "  File \"/Users/habiburrahmankhan/opt/anaconda3/lib/python3.7/site-packages/flask/app.py\", line 1952, in full_dispatch_request\n",
      "    return self.finalize_request(rv)\n",
      "  File \"/Users/habiburrahmankhan/opt/anaconda3/lib/python3.7/site-packages/flask/app.py\", line 1967, in finalize_request\n",
      "    response = self.make_response(rv)\n",
      "  File \"/Users/habiburrahmankhan/opt/anaconda3/lib/python3.7/site-packages/flask/app.py\", line 2097, in make_response\n",
      "    \"The view function did not return a valid response. The\"\n",
      "TypeError: The view function did not return a valid response. The function either returned None or ended without a return statement.\n",
      "127.0.0.1 - - [29/Feb/2020 13:55:07] \"GET /submitlocation/ HTTP/1.1\" 500 -\n"
     ]
    }
   ],
   "source": [
    "app.run()"
   ]
  },
  {
   "cell_type": "code",
   "execution_count": null,
   "metadata": {},
   "outputs": [],
   "source": []
  },
  {
   "cell_type": "code",
   "execution_count": null,
   "metadata": {},
   "outputs": [],
   "source": []
  }
 ],
 "metadata": {
  "kernelspec": {
   "display_name": "Python 3",
   "language": "python",
   "name": "python3"
  },
  "language_info": {
   "codemirror_mode": {
    "name": "ipython",
    "version": 3
   },
   "file_extension": ".py",
   "mimetype": "text/x-python",
   "name": "python",
   "nbconvert_exporter": "python",
   "pygments_lexer": "ipython3",
   "version": "3.7.4"
  }
 },
 "nbformat": 4,
 "nbformat_minor": 4
}
